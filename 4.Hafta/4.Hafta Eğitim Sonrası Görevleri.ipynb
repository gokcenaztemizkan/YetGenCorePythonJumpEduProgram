{
 "cells": [
  {
   "cell_type": "markdown",
   "metadata": {},
   "source": [
    "# Problem 1\n",
    "`ogrenciler` adında bir sözlük oluşturunuz. Kullanıcıdan döngü yardımıyla 3 öğrenci için veri girmesini isteyerek öğrencilerin sırasıyla okul numarası, isim, soy isim, telefon numarası ve doğum tarihi bilgilerini alınız. Aldığınız öğrenci bilgilerini yine aynı döngü yardımıyla `ogrenciler` adındaki sözlükte saklayınız. Daha sonra öğrenci bilgilerinin bulunduğu sözlük yapısını ekrana bastırınız.\n",
    "\n"
   ]
  },
  {
   "cell_type": "code",
   "execution_count": 2,
   "metadata": {},
   "outputs": [
    {
     "name": "stdout",
     "output_type": "stream",
     "text": [
      "{0: {'No': '111', 'isim': 'Gökçe', 'soyisim': 'Temizkan', 'Telefon numarasi': '05050767818', 'Dogum tarihi': '2004'}, 1: {'No': '222', 'isim': 'Beyza', 'soyisim': 'Temizkan', 'Telefon numarasi': '05076956599', 'Dogum tarihi': '2008'}, 2: {'No': '333', 'isim': 'Mertcan', 'soyisim': 'Kırcı', 'Telefon numarasi': '05358974545', 'Dogum tarihi': '2002'}}\n"
     ]
    }
   ],
   "source": [
    "# 1.Problemin Çözümünü Buraya Yazınız\n",
    "ogrenciler = {}\n",
    "\n",
    "for i in range(3):\n",
    "    shcoolnum = input(\"Okul numaranızı giriniz: \")\n",
    "    name = input(\"Adınızı giriniz: \")\n",
    "    surname = input(\"Soyadınızı giriniz: \")\n",
    "    telnum = input(\"Telefon numaranızı giriniz: \")\n",
    "    birth = input(\"Doğum tarinizi giriniz: \")\n",
    "\n",
    "\n",
    "    ogrenciler[i] = {\n",
    "        \"No\" : shcoolnum,\n",
    "        \"isim\" : name,\n",
    "        \"soyisim\" : surname,\n",
    "        \"Telefon numarasi\" : telnum,\n",
    "        \"Dogum tarihi\" : birth\n",
    "    }\n",
    "\n",
    "print(ogrenciler)\n",
    "        "
   ]
  },
  {
   "cell_type": "markdown",
   "metadata": {},
   "source": [
    "# Problem 2\n",
    "\n",
    "### a - Biraz ısınarak başlayalım!\n",
    "\n",
    "```\n",
    "numbers = [5,10,10,15,15,15,20,20,20,20]\n",
    "```\n",
    "\n",
    "Yukarıda `numbers` adında 10 elemanlı bir liste verilmiştir. Bu listenin her elemanını kontrol eden ve tekrar eden elemanları bir kez olacak şekilde başka bir listeye kopyalayan bir program yazınız. Son olarak oluşturduğunuz listeyi ekrana bastırınız.\n",
    "\n",
    "\n",
    "\n",
    "\n",
    "```\n",
    ">Output\n",
    "[5, 10, 15, 20]\n",
    "```\n"
   ]
  },
  {
   "cell_type": "code",
   "execution_count": 3,
   "metadata": {},
   "outputs": [
    {
     "name": "stdout",
     "output_type": "stream",
     "text": [
      "[5, 10, 15, 20]\n"
     ]
    }
   ],
   "source": [
    "# 2.Problemin a Şıkkının Çözümünü Buraya Yazınız\n",
    "numbers = [5,10,10,15,15,15,20,20,20,20]\n",
    "\n",
    "unique = []\n",
    "\n",
    "for num in numbers:\n",
    "    if num in unique:\n",
    "        continue\n",
    "    else:\n",
    "        unique.append(num)\n",
    "\n",
    "print(unique)"
   ]
  },
  {
   "cell_type": "markdown",
   "metadata": {},
   "source": [
    "### 🌶️ b) Hadi işi biraz daha zorlaştıralım! \n",
    "\n",
    "\n",
    "Şimdiyse senden `numbers` isimli listedeki tekrar eden elemanları `repeatNumbers` adındaki listeye; tekrar etmeyen elemanları `uniqueNumbers`adındaki listeye kopyalayan yazmanı ve listeleri ekrana bastırmanı bekliyoruz\n",
    "\n",
    "```\n",
    ">Output\n",
    "Tekrar Eden Elemanlar: [10, 10, 15, 15, 15, 20, 20, 20, 20]\n",
    "Tekrar Etmeyen Elemanlar: [5]\n",
    "```"
   ]
  },
  {
   "cell_type": "code",
   "execution_count": 4,
   "metadata": {},
   "outputs": [
    {
     "name": "stdout",
     "output_type": "stream",
     "text": [
      "tekrar eden sayılar [10, 10, 15, 15, 15, 20, 20, 20, 20]\n",
      "tekrar etmeyen sayılar [5]\n"
     ]
    }
   ],
   "source": [
    "# 2.Problemin b Şıkkının Çözümünü Buraya Yazınız\n",
    "numbers = [5,10,10,15,15,15,20,20,20,20]\n",
    "\n",
    "unique = []\n",
    "\n",
    "repeat = []\n",
    "\n",
    "\n",
    "for num in numbers:\n",
    "    if numbers.count(num) == 1 :\n",
    "        unique.append(num)\n",
    "    else:\n",
    "        repeat.append(num)\n",
    "\n",
    "\n",
    "print(f\"tekrar eden sayılar {repeat}\")\n",
    "print(f\"tekrar etmeyen sayılar {unique}\")"
   ]
  },
  {
   "cell_type": "markdown",
   "metadata": {},
   "source": [
    "# Problem 3\n",
    "sn1 = {1,2,3,4,5}\n",
    "\n",
    "sn2 = {4,5,6,7,8}\n",
    "\n",
    " Verilen 2 adet küme için kesişimlerini, farklarını ve birleşimlerini bulunuz. "
   ]
  },
  {
   "cell_type": "code",
   "execution_count": 5,
   "metadata": {},
   "outputs": [
    {
     "name": "stdout",
     "output_type": "stream",
     "text": [
      "kümelerin kesişimi {4, 5}, sn1'in sn2'den farkı {1, 2, 3}, sn2'nin sn1'den farkı {8, 6, 7}, toplamı {1, 2, 3, 4, 5, 6, 7, 8}'dır. \n"
     ]
    }
   ],
   "source": [
    "# 3.Problemin Çözümünü Buraya Yazınız\n",
    "sn1 = {1,2,3,4,5}\n",
    "sn2 = {4,5,6,7,8}\n",
    "\n",
    "kesisim = sn1.intersection(sn2)\n",
    "\n",
    "fark = sn1.difference(sn2)\n",
    "\n",
    "fark2 = sn2.difference(sn1)\n",
    "\n",
    "toplam = sn1.union(sn2)\n",
    "\n",
    "print(f\"kümelerin kesişimi {kesisim}, sn1'in sn2'den farkı {fark}, sn2'nin sn1'den farkı {fark2}, toplamı {toplam}'dır. \")"
   ]
  },
  {
   "cell_type": "markdown",
   "metadata": {},
   "source": [
    "# Problem 4\n",
    "\n",
    "Buradaki işlemlerimizin tamamı stringler içindir. Aşağıda verilecek olan metodlar için kendinizin örnek yaratması gerekmektedir. \n",
    "\n",
    "Örneğin `upper` için `string` değişkeni oluştururken` k = \"BAC\"` şeklinde oluşturmayınız. Bunun yerine k değişkenini `k = \"bac`\" şeklinde oluşturmanız `upper` metodundaki değişimi görebilmeniz için daha iyi olacaktır.\n",
    "\n",
    "Bütün metodlardaki değişimin gözle görülür şekilde değişimi beklenmektedir.\n",
    "\n",
    "\n",
    "1- capitalize(), lower(), upper(), swapcase(), title(), replace()\n",
    "\n",
    "2- endswith(), startswith(), find(), index(), count()\n",
    "\n",
    "3- split(), strip(), join(), islower(), isalpha(), isdigit()\n",
    "\n",
    "\n",
    "Yukarıdaki `string` metodlarındaki değişimleri görebildiğimiz bir program yazınız.\n"
   ]
  },
  {
   "cell_type": "code",
   "execution_count": 8,
   "metadata": {},
   "outputs": [
    {
     "name": "stdout",
     "output_type": "stream",
     "text": [
      "Yasamayi seviyorum.\n",
      "yasamayi seviyorum.\n",
      "YASAMAYI SEVIYORUM.\n",
      "yASAMAYI SEVIYORUM.\n",
      "Yasamayi Seviyorum.\n",
      "Yasamayi seviyorum.\n",
      "True\n",
      "False\n",
      "-1\n",
      "13\n",
      "3\n",
      "['Yasamayi seviyorum.']\n",
      "python nedir\n",
      "YetGen-ile-python-öğreniyorum\n",
      "False\n",
      "False\n",
      "False\n",
      "True\n"
     ]
    }
   ],
   "source": [
    "# 4.Problemin Çözümünü Buraya Yazınız\n",
    "\n",
    "k = \"Yasamayi seviyorum.\"\n",
    "\n",
    "print(k.capitalize())\n",
    "\n",
    "print(k.lower())\n",
    "\n",
    "print(k.upper())\n",
    "\n",
    "print(k.swapcase())\n",
    "\n",
    "print(k.title())\n",
    "\n",
    "print(k.replace(\"yasamayı\", \"tarcini\"))\n",
    "\n",
    "print(k.endswith(\"seviyorum.\"))\n",
    "\n",
    "print(k.startswith(\"yasamayi\"))\n",
    "\n",
    "print(k.find(\"gogii\"))\n",
    "\n",
    "print(k.index(\"yorum\", 10, 20))\n",
    "\n",
    "print(k.count(\"a\"))\n",
    "\n",
    "print(k.split(\"/\"))\n",
    "\n",
    "x = \"     python nedir    \"\n",
    "x = x.strip()\n",
    "print(x)\n",
    "\n",
    "l = (\"YetGen\", \"ile\", \"python\", \"öğreniyorum\")\n",
    "print(\"-\".join(l))\n",
    "\n",
    "print(k.islower())\n",
    "\n",
    "print(k.isalpha())\n",
    "\n",
    "print(k.isdigit())\n",
    "\n",
    "print(k.lower().islower())\n",
    "\n",
    "\n"
   ]
  }
 ],
 "metadata": {
  "kernelspec": {
   "display_name": "Python 3.10.5 64-bit",
   "language": "python",
   "name": "python3"
  },
  "language_info": {
   "codemirror_mode": {
    "name": "ipython",
    "version": 3
   },
   "file_extension": ".py",
   "mimetype": "text/x-python",
   "name": "python",
   "nbconvert_exporter": "python",
   "pygments_lexer": "ipython3",
   "version": "3.11.1"
  },
  "orig_nbformat": 4,
  "vscode": {
   "interpreter": {
    "hash": "5026d2d6e7aaaaba093def813beadff083d8733e4a511af01735cbabd156995d"
   }
  }
 },
 "nbformat": 4,
 "nbformat_minor": 2
}
